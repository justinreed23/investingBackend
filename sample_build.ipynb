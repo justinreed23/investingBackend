{
 "cells": [
  {
   "cell_type": "markdown",
   "id": "f4792c28-52b9-4103-8f45-0d77bfee4d21",
   "metadata": {},
   "source": [
    "### Importing Files ###"
   ]
  },
  {
   "cell_type": "code",
   "execution_count": null,
   "id": "bd286f49-5ca6-42f4-88ae-09d72526f523",
   "metadata": {},
   "outputs": [],
   "source": [
    "import pandas as pd\n",
    "import glob\n",
    "import os"
   ]
  },
  {
   "cell_type": "code",
   "execution_count": null,
   "id": "b9461bf7-f1ae-4d70-94c6-2c20c05e47e3",
   "metadata": {},
   "outputs": [],
   "source": [
    "csv_files = glob.glob(\"inputs/*.csv\")\n",
    "\n",
    "dfs = []\n",
    "\n",
    "for file in csv_files:\n",
    "    df = pd.read_csv(file)\n",
    "    df['ETF'] = os.path.splitext(os.path.basename(file))[0]\n",
    "    dfs.append(df)\n",
    "\n",
    "etfs_tall = pd.concat(dfs, ignore_index=True)\n",
    "etfs_tall.drop(columns=['Open', 'High', 'Low', 'Close', 'Volume'], inplace=True)\n",
    "etfs_tall"
   ]
  },
  {
   "cell_type": "markdown",
   "id": "b4911e56-d602-46b1-aa0c-9803d16e1ea4",
   "metadata": {},
   "source": [
    "### Calculating Returns ###"
   ]
  },
  {
   "cell_type": "code",
   "execution_count": null,
   "id": "e9d17c24",
   "metadata": {},
   "outputs": [],
   "source": [
    "etfs_tall['ret'] = etfs_tall.groupby('ETF')['Adj Close'].pct_change()"
   ]
  },
  {
   "cell_type": "code",
   "execution_count": null,
   "id": "87096cd0",
   "metadata": {},
   "outputs": [],
   "source": [
    "etfs_tall.drop(columns=['Adj Close'], inplace=True)\n",
    "etfs_tall"
   ]
  },
  {
   "cell_type": "markdown",
   "id": "bf85d9e2-1010-44ab-ae78-9ccfb5d7b971",
   "metadata": {},
   "source": [
    "### Converting DF to Wide ###"
   ]
  },
  {
   "cell_type": "code",
   "execution_count": null,
   "id": "e420772a-adfc-4b7d-92c4-a6144b8f6f36",
   "metadata": {},
   "outputs": [],
   "source": [
    "etfs_wide = etfs_tall.pivot(index='Date', columns='ETF', values='ret')\n",
    "etfs_wide"
   ]
  },
  {
   "cell_type": "markdown",
   "id": "0f371305-3633-4031-86a4-4cc2cd329f7b",
   "metadata": {},
   "source": [
    "### Keeping Rows with all ETFs present ###"
   ]
  },
  {
   "cell_type": "code",
   "execution_count": null,
   "id": "b9c065a5-c84e-4001-ba4c-2bb3f0796bf4",
   "metadata": {},
   "outputs": [],
   "source": [
    "etfs_full = etfs_wide.dropna()\n",
    "etfs_full = etfs_full.reset_index(drop=True)\n",
    "etfs_full"
   ]
  },
  {
   "cell_type": "markdown",
   "id": "8ffa17e0",
   "metadata": {},
   "source": [
    "### Creating input df for Dashboard ###"
   ]
  },
  {
   "cell_type": "code",
   "execution_count": null,
   "id": "dfeea36a",
   "metadata": {},
   "outputs": [],
   "source": [
    "etfs_full.to_csv('outputs/ready_to_sample.csv', index=False)"
   ]
  },
  {
   "cell_type": "markdown",
   "id": "29a835f5-6252-4617-8924-52231043f388",
   "metadata": {},
   "source": [
    "### Expanding Data (80 years) ###"
   ]
  },
  {
   "cell_type": "code",
   "execution_count": null,
   "id": "d5d8426c-8a46-40ef-a205-75538ef28469",
   "metadata": {},
   "outputs": [],
   "source": [
    "wide_sim_life = etfs_full.sample(n=12*80, random_state=42, replace=True, ignore_index=True).reset_index()\n",
    "wide_sim_life = wide_sim_life.rename(columns={'index': 'Month'})\n",
    "wide_sim_life"
   ]
  },
  {
   "cell_type": "markdown",
   "id": "db769770-10b0-4de7-8fe7-85644dfc1586",
   "metadata": {},
   "source": [
    "### Creating Additional Portfolios ###"
   ]
  },
  {
   "cell_type": "code",
   "execution_count": null,
   "id": "ec5a19f0-c877-465b-8e3d-c8ce27bc6bb3",
   "metadata": {},
   "outputs": [],
   "source": [
    "wide_sim_life['SPY_VFWAX'] = 0.5*wide_sim_life['SPY'] + 0.5 * wide_sim_life['VFWAX'] #domestic/international stock split\n",
    "wide_sim_life['SPY_BND'] = 0.5*wide_sim_life['SPY'] + 0.5 * wide_sim_life['BND'] #stock/bond split\n",
    "wide_sim_life['SPY_VNQ_BND'] = 0.5*wide_sim_life['SPY'] + 0.5 * wide_sim_life['VNQ'] #stock/bond/real estate split\n",
    "wide_sim_life['SPY_VFWAX_BND'] = 0.4*wide_sim_life['SPY'] + 0.4 * wide_sim_life['VFWAX'] + 0.2 * wide_sim_life['BND'] #domestic/ international stock/bond split"
   ]
  },
  {
   "cell_type": "code",
   "execution_count": null,
   "id": "c6a93d82-a7f5-4e58-ac13-1926ff43fab6",
   "metadata": {},
   "outputs": [],
   "source": [
    "wide_sim_life"
   ]
  },
  {
   "cell_type": "code",
   "execution_count": null,
   "id": "8a7aadbf-ad13-4c3a-a3d4-02b1ed03bef2",
   "metadata": {},
   "outputs": [],
   "source": [
    "final_data = wide_sim_life.reset_index().melt(id_vars='Month', var_name='ETF', value_name='ret')\n",
    "final_data = final_data[final_data['ETF'] != 'index']"
   ]
  },
  {
   "cell_type": "code",
   "execution_count": null,
   "id": "6e71ade4-33c6-405d-ac22-c508f0672946",
   "metadata": {},
   "outputs": [],
   "source": [
    "final_data"
   ]
  },
  {
   "cell_type": "code",
   "execution_count": null,
   "id": "71170b33",
   "metadata": {},
   "outputs": [],
   "source": [
    "final_data.to_csv('outputs/etf_returns.csv', index=False)"
   ]
  }
 ],
 "metadata": {
  "kernelspec": {
   "display_name": "Python 3 (ipykernel)",
   "language": "python",
   "name": "python3"
  },
  "language_info": {
   "codemirror_mode": {
    "name": "ipython",
    "version": 3
   },
   "file_extension": ".py",
   "mimetype": "text/x-python",
   "name": "python",
   "nbconvert_exporter": "python",
   "pygments_lexer": "ipython3",
   "version": "3.11.7"
  }
 },
 "nbformat": 4,
 "nbformat_minor": 5
}
