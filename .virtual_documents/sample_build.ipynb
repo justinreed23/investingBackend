


import pandas as pd
import glob
import os


csv_files = glob.glob("inputs/*.csv")

dfs = []

for file in csv_files:
    df = pd.read_csv(file)
    df['ETF'] = os.path.splitext(os.path.basename(file))[0]
    dfs.append(df)

etfs_tall = pd.concat(dfs, ignore_index=True)
etfs_tall.drop(columns=['Open', 'High', 'Low', 'Close', 'Volume'], inplace=True)
etfs_tall





etfs_wide = etfs_tall.pivot(index='Date', columns='ETF', values='Adj Close')
etfs_wide





etfs_full = etfs_wide.dropna()
etfs_full = etfs_full.reset_index(drop=False)
etfs_full





wide_sim_life = etfs_full.sample(n=12*80, random_state=42, replace=True)
wide_sim_life





# etfs_full_tall = etfs_full.reset_index(drop=True)


etfs_full_tall = etfs_full.melt(id_vars=['Date'], value_name='Adj Close')

# etfs_full_tall = pd.DataFrame(wide_sim_life.stack().swaplevel().sort_index())

# etfs_full_tall.columns = ['Date', 'ETF', 'Adj Close']
etfs_full_tall
# etfs_full_tall.query('ETF=="AOR"')





rets = etfs_full_tall.drop(columns=['Adj Close'])
rets['ret'] = etfs_full_tall.groupby('ETF')['Adj Close'].pct_change()
rets





rets_wide = rets.pivot(index='Date', columns='ETF', values='ret')
rets_wide





rets_wide['SPY_VFWAX'] = 0.5*rets_wide['SPY'] + 0.5 * rets_wide['VFWAX'] #domestic/international stock split
rets_wide['SPY_BND'] = 0.5*rets_wide['SPY'] + 0.5 * rets_wide['BND'] #stock/bond split
rets_wide['SPY_VNQ_BND'] = 0.5*rets_wide['SPY'] + 0.5 * rets_wide['VNQ'] #stock/bond/real estate split
rets_wide['SPY_VFWAX_BND'] = 0.4*rets_wide['SPY'] + 0.4 * rets_wide['VFWAX'] + 0.2 * rets_wide['BND'] #domestic/ international stock/bond split


rets_wide
